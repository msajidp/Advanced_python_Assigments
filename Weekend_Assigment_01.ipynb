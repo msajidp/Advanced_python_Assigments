{
 "cells": [
  {
   "cell_type": "code",
   "execution_count": 1,
   "metadata": {},
   "outputs": [],
   "source": [
    "class Restaurant:\n",
    "    def __init__(self, restaurant_name, cuisine_type):\n",
    "        self.restuarant_name = restaurant_name;\n",
    "        self.cuisine_type = cuisine_type;\n",
    "        \n",
    "    def describe_restaurant(self):\n",
    "        print(f\" The restaurant is {self.restuarant_name} and the cuisine_type is {self.cuisine_type} \\n\")\n",
    "        \n",
    "    \n",
    "    def open_restuarant(self):\n",
    "         print(f\"{self.restuarant_name} is now open\")"
   ]
  },
  {
   "cell_type": "code",
   "execution_count": 2,
   "metadata": {},
   "outputs": [],
   "source": [
    "a1 = Restaurant(\"Zaitoon\",\"Indian\")"
   ]
  },
  {
   "cell_type": "code",
   "execution_count": 3,
   "metadata": {},
   "outputs": [
    {
     "name": "stdout",
     "output_type": "stream",
     "text": [
      " The restaurant is Zaitoon and the cuisine_type is Indian \n",
      "\n"
     ]
    }
   ],
   "source": [
    "a1.describe_restaurant()"
   ]
  },
  {
   "cell_type": "code",
   "execution_count": 4,
   "metadata": {},
   "outputs": [
    {
     "name": "stdout",
     "output_type": "stream",
     "text": [
      "Zaitoon is now open\n"
     ]
    }
   ],
   "source": [
    "a1.open_restuarant()"
   ]
  },
  {
   "cell_type": "code",
   "execution_count": 5,
   "metadata": {},
   "outputs": [],
   "source": [
    "a2 = Restaurant(\"ChinChong\",\"Chinese\")"
   ]
  },
  {
   "cell_type": "code",
   "execution_count": 6,
   "metadata": {},
   "outputs": [
    {
     "name": "stdout",
     "output_type": "stream",
     "text": [
      " The restaurant is ChinChong and the cuisine_type is Chinese \n",
      "\n"
     ]
    }
   ],
   "source": [
    "a2.describe_restaurant()"
   ]
  },
  {
   "cell_type": "code",
   "execution_count": 7,
   "metadata": {},
   "outputs": [
    {
     "name": "stdout",
     "output_type": "stream",
     "text": [
      "ChinChong is now open\n"
     ]
    }
   ],
   "source": [
    "a2.open_restuarant()"
   ]
  },
  {
   "cell_type": "code",
   "execution_count": null,
   "metadata": {},
   "outputs": [],
   "source": []
  }
 ],
 "metadata": {
  "kernelspec": {
   "display_name": "Python 3",
   "language": "python",
   "name": "python3"
  },
  "language_info": {
   "codemirror_mode": {
    "name": "ipython",
    "version": 3
   },
   "file_extension": ".py",
   "mimetype": "text/x-python",
   "name": "python",
   "nbconvert_exporter": "python",
   "pygments_lexer": "ipython3",
   "version": "3.7.6"
  }
 },
 "nbformat": 4,
 "nbformat_minor": 4
}
